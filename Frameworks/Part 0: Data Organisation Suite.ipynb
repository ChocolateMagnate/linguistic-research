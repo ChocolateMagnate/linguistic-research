{
 "cells": [
  {
   "cell_type": "markdown",
   "metadata": {},
   "source": [
    "# Linguistic Data Organisation with Python\n",
    "One of the many various advantages why applied linguists and data scientists prefer Python alike is ita abundance of rich frameworks and libraries designed by numerous engineers and thoroughly tested. Some of them, in particular **Numpy**, **Pandas** and **Matplotlib** form a famous trio of data arrangement and visualisation, which far exceeds GUI-based applications such as Google Spreadsheets. In this notebook, you will learn about what Pythonic libraries draw the best data management practices in a simple and comprehensible way.\n",
    "\n",
    "# NumPy\n",
    "The first and simplest one is the library used to process numeric data and advanced math operations. *NumPy* is a library that pairs simplicity and flexibility of Python with C-backed primitive lightweight numeric constraints and allows developers generate true arrays of integers or floating-point numbers the same way as in C. This package is primarily concerned with boosting performance with aid of homogenous arrays and performing mathematical operations on them.   \n",
    "\n",
    "## Array initialisation\n",
    "Making an array in NumPy is as easy as calling its `array()` method and passing a Pythonic list."
   ]
  },
  {
   "cell_type": "code",
   "execution_count": 1,
   "metadata": {},
   "outputs": [
    {
     "name": "stdout",
     "output_type": "stream",
     "text": [
      "<class 'numpy.ndarray'> <class 'type'> <class 'numpy.ndarray'>\n",
      "[ 1  2  3  4  5  6  7  8  9 10]\n",
      "[ 1  3  5  7  9 11 13 15 17 19]\n",
      "[ 6.91419512e-310  6.91419512e-310  0.00000000e+000  0.00000000e+000\n",
      " -3.42203565e-294 -3.22631907e-294  5.69295384e+173  2.36975744e+289\n",
      " -3.42739043e-294  4.28281311e+202]\n"
     ]
    }
   ],
   "source": [
    "import numpy as np\n",
    "#Create an array with a list:\n",
    "array = np.array([1, 2, 3, 4, 5, 6, 7, 8, 9, 10])\n",
    "#Create an array with a range:\n",
    "range_ = np.arange(1, 21, 2)\n",
    "#Create an hollow array:\n",
    "hollow = np.empty(10) #np.zeros() or np.ones() are also options\n",
    "print(type(array), type(range), type(hollow))\n",
    "print(array)\n",
    "print(range_)\n",
    "print(hollow)"
   ]
  },
  {
   "cell_type": "markdown",
   "metadata": {},
   "source": [
    "As we can see, all true arrays in Python are treated as objects of the `numpy.ndarray` (n-dimensional) classes. In similar way to lists, they hold a sequence of values, however what makes them powerful is that:\n",
    "1. arrays are fixed-size, they cannot have cells inserted or removed once initialised;\n",
    "2. arrays are always homogenous, which means they can only store values of the same type;\n",
    "3. Numpy opens a way to use primitive values, since in Python everything is objects.\n",
    "\n",
    "## Array modification\n",
    "NumPy allows developers to generate arrays out of existing iterables, generators, create an empty or array filled with zeroes or ones initially. Because arrays are fixed, items cannot be inserted or deleted from them, however it's possible to generate new arrays that copy all of the previous items with specified changes, similarly to C++ `std::vector`. "
   ]
  },
  {
   "cell_type": "code",
   "execution_count": 2,
   "metadata": {},
   "outputs": [
    {
     "name": "stdout",
     "output_type": "stream",
     "text": [
      "[ 0  1  2  4  5  6  7  8  9 10 11]\n"
     ]
    }
   ],
   "source": [
    "#Modifying arrays. Notice a new array is generated each time, and we point \n",
    "#the variable to the new array so that the old one is garbage collected.\n",
    "array = np.append(array, 11)\n",
    "array = np.insert(array, 0, 0)\n",
    "array = np.delete(array, 3)\n",
    "print(array)"
   ]
  },
  {
   "cell_type": "markdown",
   "metadata": {},
   "source": [
    "## Multidimensional arrays\n",
    "Arrays are not just chains of values, but it is possible to extend them into multiple dimensions. NumPy was specifically designed to handle them efficiently. All of the operations described before are applicable to them too."
   ]
  },
  {
   "cell_type": "code",
   "execution_count": 3,
   "metadata": {},
   "outputs": [
    {
     "name": "stdout",
     "output_type": "stream",
     "text": [
      "[[1 2 3]\n",
      " [4 5 6]\n",
      " [7 8 9]]\n",
      "[1 2 3]\n",
      "[1 4 7]\n",
      "~~~~~\n",
      "[1 2]\n",
      "[1 4]\n",
      "~~~~~\n",
      "[1 3]\n",
      "[1 7]\n",
      "~~~~~\n",
      "[1 3]\n",
      "[7]\n",
      "~~~~~\n"
     ]
    }
   ],
   "source": [
    "#Accessing array values and slicing\n",
    "matrix = np.array([[1, 2, 3], [4, 5, 6], [7, 8, 9]])\n",
    "print(matrix)\n",
    "rowSlice = matrix[0]\n",
    "columnSlice = matrix[:, 0]\n",
    "print(rowSlice)\n",
    "print(columnSlice)\n",
    "print(\"~~~~~\")\n",
    "#Accessing elements with a range:\n",
    "rowSliceShortened   = matrix[0, 0:2]\n",
    "columnSliceShortned = matrix[0:2, 0]\n",
    "print(rowSliceShortened)\n",
    "print(columnSliceShortned)\n",
    "print(\"~~~~~\")\n",
    "#Accessing elements with a list:\n",
    "rowListSlice    = matrix[0, [0, 2]] #Get the first and third elements of the first row\n",
    "columnListSlice = matrix[[0, 2], 0] #Get the first and third elements of the first column\n",
    "print(rowListSlice)\n",
    "print(columnListSlice)\n",
    "print(\"~~~~~\")\n",
    "#Accessing elements with a boolean array:\n",
    "rowBoolSlice    = matrix[0, [True, False, True]] #Get the first and third elements of the first row\n",
    "columnBoolSlice = matrix[[False, False, True], 0] #Get the last element of the first column\n",
    "print(rowBoolSlice)\n",
    "print(columnBoolSlice)\n",
    "print(\"~~~~~\")"
   ]
  },
  {
   "cell_type": "markdown",
   "metadata": {},
   "source": [
    "All operators apply the operation to all array values. For example, an expression like `array * 5` will generate a new array whose all values are multiplied by 5."
   ]
  },
  {
   "cell_type": "code",
   "execution_count": 4,
   "metadata": {},
   "outputs": [
    {
     "name": "stdout",
     "output_type": "stream",
     "text": [
      "[ 1  2  3  5  6  7  8  9 10 11 12]\n",
      "[-1  0  1  3  4  5  6  7  8  9 10]\n",
      "[ 0  2  4  8 10 12 14 16 18 20 22]\n",
      "[0.  0.5 1.  2.  2.5 3.  3.5 4.  4.5 5.  5.5]\n"
     ]
    }
   ],
   "source": [
    "# Aray operations\n",
    "added      = array + 1\n",
    "subtracted = array - 1\n",
    "multiplied = array * 2\n",
    "divided    = array / 2\n",
    "print(added)\n",
    "print(subtracted)\n",
    "print(multiplied)\n",
    "print(divided)\n"
   ]
  },
  {
   "cell_type": "markdown",
   "metadata": {},
   "source": [
    "## Array types\n",
    "NumPy comes with the built-in primitive datatypes that date back to the origin of computer science and lie in the foundation of ancient languages, such as C, Fortran or APL. "
   ]
  },
  {
   "cell_type": "code",
   "execution_count": 5,
   "metadata": {},
   "outputs": [
    {
     "name": "stdout",
     "output_type": "stream",
     "text": [
      "[0 0 0 0 0 0 0 0 0 0]\n",
      "[0. 0. 0. 0. 0. 0. 0. 0. 0. 0.]\n",
      "[17  0  0  0  0  0  0  0  0  0]\n",
      "[56.  0.  0.  0.  0.  0.  0.  0.  0.  0.]\n"
     ]
    }
   ],
   "source": [
    "integers = np.zeros(10, dtype=np.int32) \n",
    "floats   = np.zeros(10, dtype=np.float32)\n",
    "print(integers)\n",
    "print(floats)\n",
    "\n",
    "try: \n",
    "    integers[0] = 17.5 #Assign a floating point number to an integer array\n",
    "    floats[0] = 56 #Assign an integer to a floating point array\n",
    "except ValueError as e:\n",
    "    print(e)\n",
    "print(integers)\n",
    "print(floats)"
   ]
  },
  {
   "cell_type": "markdown",
   "metadata": {},
   "source": [
    "As we can see, NumPy automatically casts given value into the array's respective type and does not raise any error in inherent for C manner. Aside from those, these types are also available (with C equivalents in parentheses):\n",
    "* `numpy.bool_` (bool) boolean (true or false) bytes;\n",
    "* `numpy.byte` (singed char), `.ubyte` (unsigned char), `.intc` (int), `.short` (short), `.int_` (long), `.longlong` (long long), `.ulonglong` (unsigned long long) are all platform-specific;\n",
    "* `numpy.half`/`.float16` half precision floating-point: 5 bit exponent, 10 bits mantissa;\n",
    "* `numpy.single` (float) single precision floating-point number, typically 8 bit exponent and 23 bit mantissa;\n",
    "* `numpy.double` (double), `.longdouble` (long double) double presision floating-point number: 11 bit exponent, 52 bit mantissa;\n",
    "* `numpy.cdouble` (double complex), `.csingle` complex number represented as real and imaginary components with two double/single precision values;\n",
    "* `numpy.string_` (char*) string texts.\n",
    "\n",
    "When the arrays are defined with a specific type, the range of operations available for them significantly decreases and may cause certain exceptions at the runtime as it is inherent for a dynamically-typed language. In Python, not every value can even be remotely known at the stage of development, therefore this issue is addressed with the special `numpy.object_` type. Under the hood, it sacrifices possible performance gains array usage brings over lists for the purpose of flexibility by storing in the array not the actual values but pointers to respective Python objects. At this point, they differ from original Python lists really little and excessive insertion and deletion leads to making arrays entirely obsolete.  \n",
    "_Conclusion: Don't expect a dynamic interpreted language to be safe or performant, use Go instead._"
   ]
  },
  {
   "cell_type": "code",
   "execution_count": 7,
   "metadata": {},
   "outputs": [
    {
     "name": "stdout",
     "output_type": "stream",
     "text": [
      "[10 '11' 12 '13' 14 '15' 16 '17' 18 '19']\n",
      "[10 11 12 13 14 15 16 17 18 19]\n"
     ]
    }
   ],
   "source": [
    "flexible = np.zeros(10, dtype=np.object_)\n",
    "strict = np.zeros(10, dtype=np.int32)\n",
    "def unknownData(base, index):\n",
    "    #This functions returns a float or a string, and it\n",
    "    #makes it inconvinient to use in conjuction with arrays.\n",
    "    return base + index if index % 2 == 0 else str(base + index)\n",
    "\n",
    "try:\n",
    "    for i in range(10):\n",
    "        flexible[i] = unknownData(10, i)\n",
    "        strict[i]   = unknownData(10, i)\n",
    "except ValueError as e:\n",
    "    print(e)\n",
    "print(flexible)\n",
    "print(strict)"
   ]
  },
  {
   "cell_type": "markdown",
   "metadata": {},
   "source": [
    "From what we see, NumPy forces the input values to align to the array types by casting them, which may work for integers, floats and strings, however there are fundamental issues in type coehersion found in JavaScript: unpredictability, uncontrollability and absurd it sometimes may cause. On top of that, the integer 14 is an entirely different piece of data than the string \"14\", which makes the conversion inaccurate. It makes sense to opt for specifically-typed arrays when possible and only using `numpy.object_` when developer needs restricted-sized scope of objects of custom types.\n",
    "\n",
    "# Pandas\n",
    "Pandas is another popular toolkit used to organise and manage massive pieces of data. It primarily deals with representing data in a spreadsheet-like structures and performing operations on them in a similar way Microsoft Excel can, but in a programatic way. One of the essential advantages of Pandas is that you do not have the whole table visually in front of you but can manipulate it with object-oriented code, which makes dat manipulation immensely more productive and less overwhelming. "
   ]
  },
  {
   "cell_type": "code",
   "execution_count": 1,
   "metadata": {},
   "outputs": [],
   "source": [
    "import pandas as pd\n"
   ]
  },
  {
   "cell_type": "code",
   "execution_count": 12,
   "metadata": {},
   "outputs": [
    {
     "name": "stdout",
     "output_type": "stream",
     "text": [
      "            Word       Pronunciation           Stem Part of speech Level\n",
      "0        abandon         /əˈbæn.dən/        abandon           verb    A2\n",
      "1    magnificent    /mæɡˈnɪf.ɪ.sənt/    magnificent      adjective    B1\n",
      "2         hardly          /ˈhɑːd.li/           hard         abverb    B1\n",
      "3   breathtaking     /ˈbreθˌteɪ.kɪŋ/   breathtaking      adjective   B2 \n",
      "4  unforgettable  /ˌʌn.fəˈɡet.ə.bəl/  unforgettable      adjective    B1\n",
      "5      horrified       /ˈhɒr.ɪ.faɪd/        horrify           verb    C2\n",
      "6            rob               /rɒb/            rob           verb    B1\n",
      "7           like              /laɪk/           like           verb    A1\n",
      "8       insanely        /ɪnˈseɪn.li/         insane         adverb    C1\n"
     ]
    }
   ],
   "source": [
    "#Data from the Cambridge Dictionary https://dictionary.cambridge.org/\n",
    "dictionary = pd.read_csv(\"/workspaces/linguistic-research/Sources/Dictionary.csv\") \n",
    "print(dictionary)"
   ]
  }
 ],
 "metadata": {
  "kernelspec": {
   "display_name": "Python 3.10.7 64-bit",
   "language": "python",
   "name": "python3"
  },
  "language_info": {
   "codemirror_mode": {
    "name": "ipython",
    "version": 3
   },
   "file_extension": ".py",
   "mimetype": "text/x-python",
   "name": "python",
   "nbconvert_exporter": "python",
   "pygments_lexer": "ipython3",
   "version": "3.10.7"
  },
  "orig_nbformat": 4,
  "vscode": {
   "interpreter": {
    "hash": "3ad933181bd8a04b432d3370b9dc3b0662ad032c4dfaa4e4f1596c548f763858"
   }
  }
 },
 "nbformat": 4,
 "nbformat_minor": 2
}

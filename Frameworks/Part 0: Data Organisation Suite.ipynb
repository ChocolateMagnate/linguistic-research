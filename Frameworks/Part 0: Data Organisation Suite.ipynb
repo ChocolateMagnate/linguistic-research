{
 "cells": [
  {
   "cell_type": "markdown",
   "metadata": {},
   "source": [
    "# Linguistic Data Organisation with Python\n",
    "One of the many various advantages why applied linguists and data scientists prefer Python alike is ita abundance of rich frameworks and libraries designed by numerous engineers and thoroughly tested. Some of them, in particular **Numpy**, **Pandas** and **Matplotlib** form a famous trio of data arrangement and visualisation, which far exceeds GUI-based applications such as Google Spreadsheets. In this notebook, you will learn about what Pythonic libraries draw the best data management practices in a simple and comprehensible way.\n",
    "\n",
    "# NumPy\n",
    "The first and simplest one is the library used to process numeric data and advanced math operations. *NumPy* is a library that pairs simplicity and flexibility of Python with C-backed primitive lightweight numeric constraints and allows developers generate true arrays of integers or floating-point numbers the same way as in C. This package is primarily concerned with boosting performance with aid of homogenous arrays and performing mathematical operations on them.   \n",
    "\n",
    "## Array initialisation\n",
    "Making an array in NumPy is as easy as calling its `array()` method and passing a Pythonic list."
   ]
  },
  {
   "cell_type": "code",
   "execution_count": 1,
   "metadata": {},
   "outputs": [
    {
     "name": "stdout",
     "output_type": "stream",
     "text": [
      "<class 'numpy.ndarray'> <class 'numpy.ndarray'> <class 'numpy.ndarray'>\n",
      "[ 1  2  3  4  5  6  7  8  9 10]\n",
      "[ 1  3  5  7  9 11 13 15 17 19]\n",
      "[6.91045040e-310 6.91045040e-310 4.37003813e-310 3.10551199e-271\n",
      " 3.78576768e-270 1.37189170e-231 1.08642527e-202 4.26638929e-270\n",
      " 4.04086635e-270 4.02793032e-270]\n"
     ]
    }
   ],
   "source": [
    "import numpy as np\n",
    "#Create an array with a list:\n",
    "array = np.array([1, 2, 3, 4, 5, 6, 7, 8, 9, 10])\n",
    "#Create an array with a range:\n",
    "range = np.arange(1, 21, 2)\n",
    "#Create an hollow array:\n",
    "hollow = np.empty(10) #np.zeros() or np.ones() are also options\n",
    "print(type(array), type(range), type(hollow))\n",
    "print(array)\n",
    "print(range)\n",
    "print(hollow)"
   ]
  },
  {
   "cell_type": "markdown",
   "metadata": {},
   "source": [
    "As we can see, all true arrays in Python are treated as objects of the `numpy.ndarray` (n-dimensional) classes. In similar way to lists, they hold a sequence of values, however what makes them powerful is that:\n",
    "1. arrays are fixed-size, they cannot have cells inserted or removed once initialised;\n",
    "2. arrays are always homogenous, which means they can only store values of the same type;\n",
    "3. Numpy opens a way to use primitive values, since in Python everything is objects.\n",
    "\n",
    "## Array modification\n",
    "NumPy allows developers to generate arrays out of existing iterables, generators, create an empty or array filled with zeroes or ones initially. Because arrays are fixed, items cannot be inserted or deleted from them, however it's possible to generate new arrays that copy all of the previous items with specified changes, similarly to C++ `std::vector`. "
   ]
  },
  {
   "cell_type": "code",
   "execution_count": 3,
   "metadata": {},
   "outputs": [
    {
     "name": "stdout",
     "output_type": "stream",
     "text": [
      "[ 0  1  2  4  5  6  7  8  9 10 11 11]\n"
     ]
    }
   ],
   "source": [
    "#Modifying arrays. Notice a new array is generated each time, and we point \n",
    "#the variable to the new array so that the old one is garbage collected.\n",
    "array = np.append(array, 11)\n",
    "array = np.insert(array, 0, 0)\n",
    "array = np.delete(array, 3)\n",
    "print(array)"
   ]
  },
  {
   "cell_type": "markdown",
   "metadata": {},
   "source": [
    "## Multidimensional arrays\n",
    "Arrays are not just chains of values, but it is possible to extend them into multiple dimensions. NumPy was specifically designed to handle them efficiently. All of the operations described before are applicable to them too."
   ]
  },
  {
   "cell_type": "code",
   "execution_count": 9,
   "metadata": {},
   "outputs": [
    {
     "name": "stdout",
     "output_type": "stream",
     "text": [
      "[[1 2 3]\n",
      " [4 5 6]\n",
      " [7 8 9]]\n",
      "[1 2 3]\n",
      "[1 4 7]\n",
      "~~~~~\n",
      "[1 2]\n",
      "[1 4]\n",
      "~~~~~\n",
      "[1 3]\n",
      "[1 7]\n",
      "~~~~~\n",
      "[1 3]\n",
      "[1 7]\n"
     ]
    }
   ],
   "source": [
    "#Accessing array values and slicing\n",
    "matrix = np.array([[1, 2, 3], [4, 5, 6], [7, 8, 9]])\n",
    "print(matrix)\n",
    "rowSlice = matrix[0]\n",
    "columnSlice = matrix[:, 0]\n",
    "print(rowSlice)\n",
    "print(columnSlice)\n",
    "print(\"~~~~~\")\n",
    "#Accessing elements with a range:\n",
    "rowSliceShortened   = matrix[0, 0:2]\n",
    "columnSliceShortned = matrix[0:2, 0]\n",
    "print(rowSliceShortened)\n",
    "print(columnSliceShortned)\n",
    "print(\"~~~~~\")\n",
    "#Accessing elements with a list:\n",
    "rowListSlice    = matrix[0, [0, 2]] #Get the first and third elements of the first row\n",
    "columnListSlice = matrix[[0, 2], 0] #Get the first and third elements of the first column\n",
    "print(rowListSlice)\n",
    "print(columnListSlice)\n",
    "print(\"~~~~~\")\n",
    "#Accessing elements with a boolean array:\n",
    "rowBoolSlice    = matrix[0, [True, False, True]] #Get the first and third elements of the first row\n",
    "columnBoolSlice = matrix[[False, False, True], 0] #Get the last element of the first column\n",
    "print(rowBoolSlice)\n",
    "print(columnBoolSlice)\n",
    "print(\"~~~~~\")"
   ]
  },
  {
   "cell_type": "markdown",
   "metadata": {},
   "source": [
    "All operators apply the operation to all array values. For example, an expression like `array * 5` will generate a new array whose all values are multiplied by 5."
   ]
  },
  {
   "cell_type": "code",
   "execution_count": 10,
   "metadata": {},
   "outputs": [
    {
     "name": "stdout",
     "output_type": "stream",
     "text": [
      "[ 1  2  3  5  6  7  8  9 10 11 12 12]\n",
      "[-1  0  1  3  4  5  6  7  8  9 10 10]\n",
      "[ 0  2  4  8 10 12 14 16 18 20 22 22]\n",
      "[0.  0.5 1.  2.  2.5 3.  3.5 4.  4.5 5.  5.5 5.5]\n"
     ]
    }
   ],
   "source": [
    "# Aray operations\n",
    "added      = array + 1\n",
    "subtracted = array - 1\n",
    "multiplied = array * 2\n",
    "divided    = array / 2\n",
    "print(added)\n",
    "print(subtracted)\n",
    "print(multiplied)\n",
    "print(divided)\n"
   ]
  },
  {
   "cell_type": "markdown",
   "metadata": {},
   "source": [
    "## Array types\n",
    "NumPy comes with the built-in primitive datatypes that date back to the origin of computer science and lie in the foundation of ancient languages, such as C, Fortran or APL. "
   ]
  },
  {
   "cell_type": "code",
   "execution_count": 16,
   "metadata": {},
   "outputs": [
    {
     "name": "stdout",
     "output_type": "stream",
     "text": [
      "[0 0 0 0 0 0 0 0 0 0]\n",
      "[0. 0. 0. 0. 0. 0. 0. 0. 0. 0.]\n",
      "[17  0  0  0  0  0  0  0  0  0]\n",
      "[56.  0.  0.  0.  0.  0.  0.  0.  0.  0.]\n"
     ]
    },
    {
     "name": "stderr",
     "output_type": "stream",
     "text": [
      "Bad pipe message: %s [b'\\x02\\xbb\\xca/\\xfc\\xe0\\x9f\\x14\\xfb\\xf5\\x02P\\xc3\\xfc\\x85\\xf3\\x7fV \\xaf\\x7f\\x10\\x80\\x11:\\x14F\\x1eF\\xceF\\xf1v\\xbc\\x97Z\\x89\\xd9Pr\\xdf:S\\xfc\\xbd\\x0b8\\xed\\xf6q%\\x00\\x08\\x13\\x02\\x13\\x03\\x13\\x01\\x00\\xff\\x01\\x00\\x00\\x8f\\x00\\x00\\x00\\x0e\\x00\\x0c\\x00\\x00\\t127.0.0.1\\x00\\x0b\\x00\\x04\\x03\\x00\\x01\\x02\\x00\\n\\x00\\x0c\\x00\\n\\x00\\x1d\\x00\\x17\\x00\\x1e\\x00\\x19\\x00\\x18\\x00#\\x00\\x00\\x00\\x16\\x00\\x00\\x00\\x17\\x00\\x00\\x00\\r\\x00\\x1e\\x00', b'\\x03\\x05\\x03\\x06\\x03\\x08\\x07\\x08\\x08\\x08\\t\\x08\\n\\x08\\x0b\\x08\\x04\\x08\\x05\\x08\\x06\\x04\\x01\\x05\\x01\\x06\\x01']\n",
      "Bad pipe message: %s [b\"\\xc1}+\\x86\\x1b\\xb5\\xfb\\xaa\\x8a\\x87\\x96K\\xdb\\x9b\\x18\\x99\\xef\\xb0\\x00\\x00|\\xc0,\\xc00\\x00\\xa3\\x00\\x9f\\xcc\\xa9\\xcc\\xa8\\xcc\\xaa\\xc0\\xaf\\xc0\\xad\\xc0\\xa3\\xc0\\x9f\\xc0]\\xc0a\\xc0W\\xc0S\\xc0+\\xc0/\\x00\\xa2\\x00\\x9e\\xc0\\xae\\xc0\\xac\\xc0\\xa2\\xc0\\x9e\\xc0\\\\\\xc0`\\xc0V\\xc0R\\xc0$\\xc0(\\x00k\\x00j\\xc0#\\xc0'\\x00g\\x00@\\xc0\\n\\xc0\\x14\\x009\\x008\\xc0\\t\\xc0\\x13\\x003\\x002\\x00\\x9d\\xc0\\xa1\\xc0\\x9d\\xc0Q\\x00\\x9c\\xc0\\xa0\\xc0\\x9c\\xc0P\\x00=\\x00<\\x005\\x00/\\x00\\x9a\\x00\\x99\\xc0\\x07\\xc0\\x11\\x00\\x96\\x00\", b'\\xff\\x01\\x00\\x00']\n",
      "Bad pipe message: %s [b'\\x00\\x00\\x0e\\x00\\x0c\\x00\\x00\\t127.0.0.1\\x00\\x0b\\x00\\x04\\x03\\x00\\x01\\x02\\x00\\n\\x00\\x0c\\x00\\n\\x00\\x1d\\x00\\x17\\x00\\x1e\\x00\\x19\\x00\\x18\\x00#\\x00\\x00\\x00\\x16\\x00\\x00\\x00\\x17\\x00\\x00\\x00\\r\\x000\\x00.\\x04\\x03\\x05\\x03\\x06\\x03\\x08\\x07\\x08\\x08\\x08\\t\\x08\\n\\x08\\x0b\\x08\\x04\\x08\\x05\\x08\\x06\\x04\\x01\\x05\\x01\\x06\\x01\\x03\\x03\\x02\\x03\\x03\\x01\\x02\\x01\\x03\\x02\\x02\\x02\\x04\\x02\\x05\\x02\\x06\\x02']\n",
      "Bad pipe message: %s [b\"\\xa0\\xe0\\xb2\\x04\\xda\\x89\\x12\\xbd\\x1e\\x97\\xec^\\x94t/\\x92\\x01\\xfa\\x00\\x00\\xa6\\xc0,\\xc00\\x00\\xa3\\x00\\x9f\\xcc\\xa9\\xcc\\xa8\\xcc\\xaa\\xc0\\xaf\\xc0\\xad\\xc0\\xa3\\xc0\\x9f\\xc0]\\xc0a\\xc0W\\xc0S\\xc0+\\xc0/\\x00\\xa2\\x00\\x9e\\xc0\\xae\\xc0\\xac\\xc0\\xa2\\xc0\\x9e\\xc0\\\\\\xc0`\\xc0V\\xc0R\\xc0$\\xc0(\\x00k\\x00j\\xc0s\\xc0w\\x00\\xc4\\x00\\xc3\\xc0#\\xc0'\\x00g\\x00@\\xc0r\\xc0v\\x00\\xbe\\x00\\xbd\\xc0\\n\\xc0\\x14\\x009\\x008\\x00\\x88\\x00\\x87\\xc0\\t\\xc0\\x13\\x003\\x002\\x00\\x9a\\x00\\x99\\x00E\\x00D\\xc0\\x07\\xc0\\x11\\xc0\\x08\\xc0\\x12\\x00\\x16\\x00\\x13\\x00\\x9d\\xc0\\xa1\\xc0\\x9d\\xc0Q\\x00\\x9c\\xc0\\xa0\\xc0\\x9c\\xc0P\\x00=\\x00\\xc0\\x00<\\x00\"]\n",
      "Bad pipe message: %s [b'\\xb8L`\\x80\\xf1:\\x92\\x1f\\xaaZ/GUB\\xce\\x9d\\x88O\\x00\\x00\\xa2\\xc0\\x14\\xc0\\n\\x009\\x008\\x00', b'6\\x00\\x88\\x00\\x87\\x00\\x86\\x00\\x85\\xc0\\x19\\x00:\\x00\\x89\\xc0\\x0f\\xc0\\x05\\x005\\x00\\x84\\xc0\\x13\\xc0\\t\\x003\\x002\\x001\\x000\\x00\\x9a\\x00\\x99\\x00\\x98\\x00\\x97\\x00E\\x00D\\x00C\\x00B\\xc0\\x18\\x00']\n",
      "Bad pipe message: %s [b'\\x9b\\x00F\\xc0\\x0e\\xc0\\x04\\x00/\\x00\\x96\\x00A\\x00\\x07\\xc0\\x11\\xc0\\x07\\xc0\\x16\\x00\\x18\\xc0\\x0c\\xc0\\x02\\x00\\x05\\x00\\x04\\xc0\\x12\\xc0\\x08\\x00\\x16\\x00\\x13\\x00\\x10\\x00\\r\\xc0\\x17\\x00\\x1b\\xc0\\r\\xc0\\x03']\n",
      "Bad pipe message: %s [b'\\x9d\\x9c\\x07\\xa9oe\\xea\\xfd']\n",
      "Bad pipe message: %s [b'\\n\\xe1\\xa7\\xeb\\xf2\\xdd\\xaa\\xeaj^,\\xabk\\xd61\\xd4\\xbf\\xfe\\x00\\x00\\x86\\xc00']\n",
      "Bad pipe message: %s [b\"\\xc0(\\xc0$\\xc0\\x14\\xc0\\n\\x00\\xa5\\x00\\xa3\\x00\\xa1\\x00\\x9f\\x00k\\x00j\\x00i\\x00h\\x009\\x008\\x007\\x006\\xc02\\xc0.\\xc0*\\xc0&\\xc0\\x0f\\xc0\\x05\\x00\\x9d\\x00=\\x005\\xc0/\\xc0+\\xc0'\\xc0#\\xc0\\x13\\xc0\\t\\x00\\xa4\\x00\\xa2\\x00\\xa0\\x00\\x9e\\x00g\\x00@\\x00?\\x00>\\x003\\x002\\x001\\x000\\xc01\\xc0-\\xc0)\\xc0%\\xc0\\x0e\\xc0\\x04\\x00\\x9c\\x00<\\x00/\\x00\\x9a\\x00\\x99\\x00\\x98\\x00\\x97\\x00\\x96\\x00\\x07\\xc0\\x11\\xc0\\x07\\xc0\\x0c\\xc0\\x02\\x00\\x05\\x00\\x04\\x00\\xff\\x02\\x01\\x00\\x00g\\x00\\x00\\x00\\x0e\\x00\\x0c\\x00\\x00\\t127.0.0.1\\x00\\x0b\\x00\\x04\\x03\\x00\\x01\\x02\\x00\\n\\x00\\x1c\\x00\\x1a\\x00\\x17\\x00\\x19\\x00\\x1c\\x00\\x1b\\x00\\x18\\x00\\x1a\\x00\\x16\\x00\\x0e\\x00\\r\\x00\\x0b\\x00\\x0c\\x00\\t\"]\n",
      "Bad pipe message: %s [b\"\\xdc\\x8a\\xf5\\xfd\\rND\\x1e\\xbd\\x8e>\\xc6\\x11\\x8aRo\\xa7\\xb2\\x00\\x00\\xf4\\xc00\\xc0,\\xc0(\\xc0$\\xc0\\x14\\xc0\\n\\x00\\xa5\\x00\\xa3\\x00\\xa1\\x00\\x9f\\x00k\\x00j\\x00i\\x00h\\x009\\x008\\x007\\x006\\x00\\x88\\x00\\x87\\x00\\x86\\x00\\x85\\xc0\\x19\\x00\\xa7\\x00m\\x00:\\x00\\x89\\xc02\\xc0.\\xc0*\\xc0&\\xc0\\x0f\\xc0\\x05\\x00\\x9d\\x00=\\x005\\x00\\x84\\xc0/\\xc0+\\xc0'\\xc0#\\xc0\\x13\\xc0\\t\\x00\\xa4\\x00\\xa2\\x00\\xa0\\x00\\x9e\\x00g\\x00@\\x00?\\x00>\\x003\\x002\\x001\\x000\\x00\\x9a\\x00\\x99\\x00\\x98\\x00\\x97\\x00E\\x00D\\x00C\\x00B\\xc0\\x18\\x00\\xa6\\x00l\\x004\\x00\\x9b\\x00F\\xc01\\xc0\"]\n",
      "Bad pipe message: %s [b')\\xc0%\\xc0\\x0e\\xc0\\x04\\x00\\x9c\\x00<\\x00/\\x00\\x96\\x00A\\x00\\x07\\xc0\\x11\\xc0\\x07\\xc0\\x16\\x00\\x18\\xc0\\x0c\\xc0\\x02\\x00\\x05\\x00\\x04\\xc0\\x12\\xc0\\x08\\x00\\x16\\x00\\x13\\x00']\n",
      "Bad pipe message: %s [b'\\r\\xc0\\x17\\x00\\x1b\\xc0\\r\\xc0\\x03\\x00\\n\\x00\\x15\\x00\\x12']\n"
     ]
    }
   ],
   "source": [
    "integers = np.zeros(10, dtype=np.int32) \n",
    "floats   = np.zeros(10, dtype=np.float32)\n",
    "print(integers)\n",
    "print(floats)\n",
    "\n",
    "try: \n",
    "    integers[0] = 17.5 #Assign a floating point number to an integer array\n",
    "    floats[0] = 56 #Assign an integer to a floating point array\n",
    "except ValueError as e:\n",
    "    print(e)\n",
    "print(integers)\n",
    "print(floats)"
   ]
  },
  {
   "cell_type": "markdown",
   "metadata": {},
   "source": [
    "As we can see, NumPy automatically casts given value into the array's respective type and does not raise any error in inherent for C manner. Aside from those, these types are also available (with C equivalents in parentheses):\n",
    "* `numpy.bool_` (bool) boolean (true or false) bytes;\n",
    "* `numpy.byte` (singed char), `.ubyte` (unsigned char), `.intc` (int), `.short` (short), `.int_` (long), `.longlong` (long long), `.ulonglong` (unsigned long long) are all platform-specific;\n",
    "* `numpy.half`/`.float16` half precision floating-point: 5 bit exponent, 10 bits mantissa;\n",
    "* `numpy.single` (float) single precision floating-point number, typically 8 bit exponent and 23 bit mantissa;\n",
    "* `numpy.double` (double), `.longdouble` (long double) double presision floating-point number: 11 bit exponent, 52 bit mantissa;\n",
    "* `numpy.cdouble` (double complex), `.csingle` complex number represented as real and imaginary components with two double/single precision values;\n",
    "* `numpy.string_` (char*) string texts.\n",
    "\n",
    "When the arrays are defined with a specific type, the range of operations available for them significantly decreases and may cause certain exceptions at the runtime as it is inherent for a dynamically-typed language. In Python, not every value can even be remotely known at the stage of development, therefore this issue is addressed with the special `numpy.object` type. Under the hood, it sacrifices possible performance gains array usage brings over lists for the purpose of flexibility by storing in the array not the actual values but pointers to respective Python objects. At this point, they differ from original Python lists really little and excessive insertion and deletion leads to making arrays entirely obsolete.  \n",
    "_Conclusion: Don't expect a dynamic interpreted language to be safe or performant, use Go instead._"
   ]
  },
  {
   "cell_type": "code",
   "execution_count": null,
   "metadata": {},
   "outputs": [],
   "source": []
  }
 ],
 "metadata": {
  "kernelspec": {
   "display_name": "Python 3.10.7 64-bit",
   "language": "python",
   "name": "python3"
  },
  "language_info": {
   "codemirror_mode": {
    "name": "ipython",
    "version": 3
   },
   "file_extension": ".py",
   "mimetype": "text/x-python",
   "name": "python",
   "nbconvert_exporter": "python",
   "pygments_lexer": "ipython3",
   "version": "3.10.7"
  },
  "orig_nbformat": 4,
  "vscode": {
   "interpreter": {
    "hash": "3ad933181bd8a04b432d3370b9dc3b0662ad032c4dfaa4e4f1596c548f763858"
   }
  }
 },
 "nbformat": 4,
 "nbformat_minor": 2
}

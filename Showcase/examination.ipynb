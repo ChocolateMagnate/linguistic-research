{
 "cells": [
  {
   "cell_type": "code",
   "execution_count": 6,
   "metadata": {},
   "outputs": [],
   "source": [
    "import spacy as sp\n",
    "english = sp.load('en_core_web_sm') #Load the English model\n"
   ]
  },
  {
   "cell_type": "markdown",
   "metadata": {},
   "source": [
    "## Text Tokenisation\n",
    "The first method to tokenise words is by loading a Language object and pass it into the constructor getting a Doc object that represents composite data about each lexeme, including:\n",
    "* `text` the textual representation from the source;\n",
    "* `pos_` the part of the speech."
   ]
  },
  {
   "cell_type": "code",
   "execution_count": 7,
   "metadata": {},
   "outputs": [
    {
     "name": "stdout",
     "output_type": "stream",
     "text": [
      "The DET det\n",
      "quick ADJ amod\n",
      "brown ADJ amod\n",
      "fox NOUN nsubj\n",
      "jumped VERB ROOT\n",
      "over ADP prep\n",
      "the DET det\n",
      "lazy ADJ amod\n",
      "dog NOUN pobj\n",
      ". PUNCT punct\n"
     ]
    }
   ],
   "source": [
    "text = \"The quick brown fox jumped over the lazy dog.\"\n",
    "doc = english(text)\n",
    "for token in doc:\n",
    "    print(token.text, token.pos_, token.dep_)"
   ]
  }
 ],
 "metadata": {
  "kernelspec": {
   "display_name": "Python 3.10.7 64-bit",
   "language": "python",
   "name": "python3"
  },
  "language_info": {
   "codemirror_mode": {
    "name": "ipython",
    "version": 3
   },
   "file_extension": ".py",
   "mimetype": "text/x-python",
   "name": "python",
   "nbconvert_exporter": "python",
   "pygments_lexer": "ipython3",
   "version": "3.10.7"
  },
  "orig_nbformat": 4,
  "vscode": {
   "interpreter": {
    "hash": "3ad933181bd8a04b432d3370b9dc3b0662ad032c4dfaa4e4f1596c548f763858"
   }
  }
 },
 "nbformat": 4,
 "nbformat_minor": 2
}

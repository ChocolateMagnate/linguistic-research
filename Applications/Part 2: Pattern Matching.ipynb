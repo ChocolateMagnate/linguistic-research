{
 "cells": [
  {
   "cell_type": "markdown",
   "metadata": {},
   "source": [
    "# Pattern Matching and Text Extraction\n",
    "When we deal with vast texts, it is essential to be able to find some explicit fragments that convey the information we need. This technique is useful in *question answering* where applied linguists can design systems that will be capable to answer questions by searching the information in the text. \n",
    "# Regular expressions\n",
    "## Static expressions\n",
    "The most primitive approach to fulfil this task is to search through the pattern of characters that are supposed to identify the piece of text one needs. It's highly specific and depends a lot on the choice of words, register and style of speech, but sometimes character matching is the easiest way to find what cannot be conveyed through grammatical relations easily.  \n",
    "\n",
    "The way how regular expressions work is by specifying a special pattern that can contain hard characters, loops, gaps, sets and intervals, and the special method will return all segments from the text that correspond to the pattern. When only words are used as a regular expression, they will yield of instances of said words encountered in the text."
   ]
  },
  {
   "cell_type": "code",
   "execution_count": 2,
   "metadata": {},
   "outputs": [
    {
     "name": "stdout",
     "output_type": "stream",
     "text": [
      "<re.Match object; span=(2, 5), match='day'>\n",
      "<re.Match object; span=(16, 19), match='day'>\n",
      "<re.Match object; span=(45, 48), match='day'>\n"
     ]
    }
   ],
   "source": [
    "#Static regular expression showcase\n",
    "import re #regular expression module\n",
    "pattern = re.compile(r'day') \n",
    "text = \"Today is a good day, why not make it a great day?\"\n",
    "for match in pattern.finditer(text):\n",
    "    print(match)"
   ]
  },
  {
   "cell_type": "markdown",
   "metadata": {},
   "source": [
    "Here we see that static regular expression not only returned `Match` objects that are standalone words, but also extracted the char sequence if it's a part of words.  \n",
    "\n",
    "## Dynamic expressions and quantifiers\n",
    "Regular expressions are much more powerful when used *dynamically*, that is with certain flexibility that other characters can embody. In regular expressions, developers can specify how many times some character must be repeated in the following fashion:\n",
    "* `+` matches pattern one or more times (making it obligatory);\n",
    "* `?` matches pattern one or zero times (making it optional);\n",
    "* `.` matches any character;\n",
    "* `{m, n}` matches pattern at least `m` times but not more than `n`.\n",
    "Analogically, `{,n}` matches up to n times and `{m,}` matches if the pattern repeats more than `m` times."
   ]
  },
  {
   "cell_type": "code",
   "execution_count": 10,
   "metadata": {},
   "outputs": [
    {
     "name": "stdout",
     "output_type": "stream",
     "text": [
      "<re.Match object; span=(14, 19), match='bread'>\n",
      "<re.Match object; span=(45, 50), match='brad.'>\n"
     ]
    }
   ],
   "source": [
    "# Dynamic regular expression showcase\n",
    "pattern = re.compile(\"br.{3}\")\n",
    "text = \"I like to eat bread, but I don't like to eat brad.\"\n",
    "for match in pattern.finditer(text):\n",
    "    print(match)"
   ]
  },
  {
   "cell_type": "markdown",
   "metadata": {},
   "source": [
    "## Sets and ranges\n",
    "**Sets** is a way to tell that one of the characters from a set must follow. They can be as simple as specific characters and extend to nested regular expressions. Regular expressions also support a number of *character classes* to convey a group of characters more easily, such as ASCII, alphanumeric, digits, etc.  \n",
    "\n",
    "In the event if there is no available character class, it makes sense to create your own with **ranges**. Ranges essentially allow users to create custom sets that consist from all characters that lie in a range. For example, `[a-z]` is the range that includes all lowercase Latin symbols, while `[0-9]` encompasses all numbers. Ranges tend to be suffixed with a quantifier to express how many times a single character from a set of range must repeat. "
   ]
  },
  {
   "cell_type": "code",
   "execution_count": 32,
   "metadata": {},
   "outputs": [
    {
     "name": "stdout",
     "output_type": "stream",
     "text": [
      "<re.Match object; span=(0, 6), match='Alicia'>\n",
      "<re.Match object; span=(17, 25), match='Anaconda'>\n",
      "--------------------\n",
      "<re.Match object; span=(0, 3), match='Can'>\n",
      "<re.Match object; span=(36, 42), match='France'>\n",
      "--------------------\n",
      "<re.Match object; span=(0, 15), match='Lucky is my cat'>\n"
     ]
    }
   ],
   "source": [
    "# Sets, ranges and character classes\n",
    "pattern = re.compile(r\"A[a-z]+a\")\n",
    "text = \"Alicia installed Anaconda to get started with Python.\"\n",
    "for match in pattern.finditer(text):\n",
    "    print(match)\n",
    "print(\"--------------------\")\n",
    "pattern = re.compile(r\"[A-Z][a-z]+\") #Any word that starts with a capital letter\n",
    "text = \"Can you tell me what the capital of France is?\"\n",
    "for match in pattern.finditer(text):\n",
    "    print(match)\n",
    "print(\"--------------------\")\n",
    "pattern = re.compile(r\"Lucky is my (cat|dog)\") #Either cat or dog\n",
    "text = \"Lucky is my cat, but I wish he was my dog.\"\n",
    "for match in pattern.finditer(text):\n",
    "    print(match)"
   ]
  },
  {
   "cell_type": "markdown",
   "metadata": {},
   "source": [
    "## Negation\n",
    "Regular expressions also allow people to match everything except for some symbols they wish to be ignored. They are declared within `[^a]` where `a` are the characters to ignore."
   ]
  },
  {
   "cell_type": "code",
   "execution_count": 34,
   "metadata": {},
   "outputs": [
    {
     "name": "stdout",
     "output_type": "stream",
     "text": [
      "<re.Match object; span=(7, 10), match='hat'>\n",
      "<re.Match object; span=(30, 33), match='cat'>\n"
     ]
    }
   ],
   "source": [
    "# Ignorance showcase\n",
    "pattern = re.compile(r\"[^b]at\")#Any three character word that contains at, but does not start with b\n",
    "text = \"I like hats and bats, but not cats.\"\n",
    "for match in pattern.finditer(text):\n",
    "    print(match)"
   ]
  },
  {
   "cell_type": "markdown",
   "metadata": {},
   "source": [
    "Regular expressions are great when we can hook on the characters and rely on punctuation, however in linguistics we often care more about the synctatic relationships between the words. For this case, the Spacy library offers us a way to match patterns by a diversity of tags that convey parts of speech and function in the sentence.\n",
    "\n",
    "# spaCy patterns\n"
   ]
  }
 ],
 "metadata": {
  "kernelspec": {
   "display_name": "Python 3.10.7 64-bit",
   "language": "python",
   "name": "python3"
  },
  "language_info": {
   "codemirror_mode": {
    "name": "ipython",
    "version": 3
   },
   "file_extension": ".py",
   "mimetype": "text/x-python",
   "name": "python",
   "nbconvert_exporter": "python",
   "pygments_lexer": "ipython3",
   "version": "3.10.7"
  },
  "orig_nbformat": 4,
  "vscode": {
   "interpreter": {
    "hash": "3ad933181bd8a04b432d3370b9dc3b0662ad032c4dfaa4e4f1596c548f763858"
   }
  }
 },
 "nbformat": 4,
 "nbformat_minor": 2
}
